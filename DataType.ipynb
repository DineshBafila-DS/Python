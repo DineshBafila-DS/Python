{
 "cells": [
  {
   "cell_type": "markdown",
   "metadata": {},
   "source": [
    "# Fundamental Types"
   ]
  },
  {
   "cell_type": "markdown",
   "metadata": {},
   "source": [
    "## 1. Number"
   ]
  },
  {
   "cell_type": "markdown",
   "metadata": {},
   "source": [
    "### 1. Integer"
   ]
  },
  {
   "cell_type": "code",
   "execution_count": 5,
   "metadata": {},
   "outputs": [
    {
     "name": "stdout",
     "output_type": "stream",
     "text": [
      "<class 'int'>\n",
      "10.0 <class 'float'>\n",
      "(10+0j) <class 'complex'>\n"
     ]
    }
   ],
   "source": [
    "i=10\n",
    "#find type of i\n",
    "print(type(i)) \n",
    "#Conver Integer to float\n",
    "b=float(i)\n",
    "print(b,type(b))\n",
    "#Conver Integer to complex\n",
    "c=complex(i)\n",
    "print(c,type(c))"
   ]
  },
  {
   "cell_type": "markdown",
   "metadata": {},
   "source": [
    "### 2. Float"
   ]
  },
  {
   "cell_type": "code",
   "execution_count": 6,
   "metadata": {},
   "outputs": [
    {
     "name": "stdout",
     "output_type": "stream",
     "text": [
      "10.0 <class 'float'>\n"
     ]
    }
   ],
   "source": [
    "a=10.0\n",
    "print(a,type(a))"
   ]
  },
  {
   "cell_type": "markdown",
   "metadata": {},
   "source": [
    "### 3. Complex"
   ]
  },
  {
   "cell_type": "code",
   "execution_count": 9,
   "metadata": {},
   "outputs": [
    {
     "name": "stdout",
     "output_type": "stream",
     "text": [
      "(10+1j) <class 'complex'>\n",
      "1.0\n",
      "10.0\n"
     ]
    }
   ],
   "source": [
    "a=10+1j \n",
    "print(a,type(a))\n",
    "# print imaginary and real part of a \n",
    "print(a.imag)\n",
    "print(a.real)"
   ]
  },
  {
   "cell_type": "markdown",
   "metadata": {},
   "source": [
    "### 4. Boolean"
   ]
  },
  {
   "cell_type": "code",
   "execution_count": 14,
   "metadata": {},
   "outputs": [
    {
     "name": "stdout",
     "output_type": "stream",
     "text": [
      "<class 'bool'>\n",
      "2\n",
      "True\n",
      "True\n",
      "False\n",
      "False\n",
      "10\n",
      "10\n",
      "True\n"
     ]
    }
   ],
   "source": [
    "i=True\n",
    "print(type(i))\n",
    "#add two boolean\n",
    "a=True+True\n",
    "print(a)\n",
    "# Boolean evaluation\n",
    "print(True and True)\n",
    "print(True & True)\n",
    "print(True and False)\n",
    "print(True & False)\n",
    "print(10 and 10)\n",
    "print(10 & 10)"
   ]
  },
  {
   "cell_type": "markdown",
   "metadata": {},
   "source": [
    "## 2. STRING"
   ]
  },
  {
   "cell_type": "code",
   "execution_count": 167,
   "metadata": {},
   "outputs": [
    {
     "name": "stdout",
     "output_type": "stream",
     "text": [
      "Dinesh\n"
     ]
    }
   ],
   "source": [
    "a='Dinesh'\n",
    "print(a)"
   ]
  },
  {
   "cell_type": "code",
   "execution_count": 168,
   "metadata": {},
   "outputs": [
    {
     "name": "stdout",
     "output_type": "stream",
     "text": [
      "1dinesh\n",
      "dinesh\n",
      "dineshbafila\n"
     ]
    }
   ],
   "source": [
    "#1. Concatenation\n",
    "print(str(1)+'dinesh')\n",
    "a='dinesh'\n",
    "a+'bafila'\n",
    "print(a)#immutable(unchangeble)\n",
    "a=a+'bafila'#dereferencing\n",
    "print(a)"
   ]
  },
  {
   "cell_type": "code",
   "execution_count": 169,
   "metadata": {},
   "outputs": [
    {
     "name": "stdout",
     "output_type": "stream",
     "text": [
      "dineshdinesh\n"
     ]
    }
   ],
   "source": [
    "#2 Multiplication\n",
    "a='dinesh'\n",
    "print(a*2)"
   ]
  },
  {
   "cell_type": "code",
   "execution_count": 170,
   "metadata": {},
   "outputs": [
    {
     "name": "stdout",
     "output_type": "stream",
     "text": [
      "e\n",
      "Hello World\n",
      "Hello Worl\n",
      "d\n"
     ]
    }
   ],
   "source": [
    "#3 Indexing\n",
    "a=\"Hello World\"\n",
    "print(a[1])\n",
    "#a[2]='jh'#error does not support assignment\n",
    "#slicing\n",
    "print(a[::])\n",
    "print(a[:-1])\n",
    "print(a[-1])\n"
   ]
  },
  {
   "cell_type": "code",
   "execution_count": 171,
   "metadata": {},
   "outputs": [
    {
     "name": "stdout",
     "output_type": "stream",
     "text": [
      "['Hello', 'World']\n",
      "['Hell', ' W', 'rld']\n",
      "['he', 'o', '']\n"
     ]
    }
   ],
   "source": [
    "#4 split()\n",
    "print(a.split(' ')) # split the string by blank space (return list)\n",
    "print(a.split('o')) #split the string by character o\n",
    "d='helol'\n",
    "print(d.split('l'))"
   ]
  },
  {
   "cell_type": "code",
   "execution_count": 172,
   "metadata": {},
   "outputs": [
    {
     "name": "stdout",
     "output_type": "stream",
     "text": [
      "['h', 'llo h', 'y']\n",
      "('h', 'e', 'llo hey')\n"
     ]
    }
   ],
   "source": [
    "#5 partition()\n",
    "a='hello hey'\n",
    "print(a.split('e')) #return list and doen not include the partitioned word\n",
    "print(a.partition('e')) # return tuple and partition the string by the character when its encounter first"
   ]
  },
  {
   "cell_type": "code",
   "execution_count": 173,
   "metadata": {},
   "outputs": [
    {
     "name": "stdout",
     "output_type": "stream",
     "text": [
      "Enter Your Name:Dinesh\n",
      "Enter Your age:24\n",
      "Dinesh, how are you and what is your age?\n",
      "my age is 24\n",
      "Hello 10, How are you?\n"
     ]
    }
   ],
   "source": [
    "#6 Print formatting\n",
    "a=input(\"Enter Your Name:\")\n",
    "b=int(input(\"Enter Your age:\"))\n",
    "print('{}, how are you and what is your age?'.format(a))\n",
    "print('my age is {}'.format(b))\n",
    "#Note if you Provide more no. of arguements and less number of curly braces than it is acceptable but versa is not\n",
    "print('Hello {}, How are you?'.format(10,20)) # right\n",
    "#print('Hello {}, How are you?'.format(10,20)) # error"
   ]
  },
  {
   "cell_type": "code",
   "execution_count": 176,
   "metadata": {},
   "outputs": [
    {
     "name": "stdout",
     "output_type": "stream",
     "text": [
      "2\n",
      "<class 'str'>\n",
      "D\n",
      "i\n",
      "n\n",
      "e\n",
      "s\n",
      "h\n",
      " \n",
      "B\n",
      "a\n",
      "f\n",
      "i\n",
      "l\n",
      "a\n"
     ]
    }
   ],
   "source": [
    "#7 Location and Counting\n",
    "#1 count()\n",
    "s='Dinesh Bafila'\n",
    "print(s.count('a'))\n",
    "#iterate through string\n",
    "print(type(s[1]))\n",
    "for i in range(len(s)):\n",
    "    print(s[i])"
   ]
  },
  {
   "cell_type": "code",
   "execution_count": 177,
   "metadata": {},
   "outputs": [
    {
     "name": "stdout",
     "output_type": "stream",
     "text": [
      "D\n",
      "i\n",
      "n\n",
      "e\n",
      "s\n",
      "h\n",
      " \n",
      "B\n",
      "a\n",
      "f\n",
      "i\n",
      "l\n",
      "a\n",
      "13\n",
      "12\n"
     ]
    }
   ],
   "source": [
    "#Program to iterate through a string\n",
    "for i in range(len(s)):\n",
    "    print(s[i])\n",
    "sum=0\n",
    "#Program to count the no. of character present in the string including space \n",
    "for i in range(len(s)):\n",
    "    if(type(s[i])==str):\n",
    "        sum=sum+1\n",
    "print(sum)\n",
    "#Program to count the no. of character present in the string excluding space\n",
    "sum=0\n",
    "for i in range(len(s)):\n",
    "    if(s[i]==' '):\n",
    "        continue\n",
    "    elif(type(s[i])==str):\n",
    "        sum=sum+1\n",
    "print(sum)"
   ]
  },
  {
   "cell_type": "code",
   "execution_count": 178,
   "metadata": {},
   "outputs": [
    {
     "name": "stdout",
     "output_type": "stream",
     "text": [
      "8\n",
      "jDinesh Bafilajj\n",
      "hello   ji\n"
     ]
    }
   ],
   "source": [
    "#7 -->2 find()\n",
    "print(s.find('a'))\n",
    "#3 center\n",
    "print(s.center(16,'j'))\n",
    "#4 expandtabs()\n",
    "print(\"hello\\tji\".expandtabs())\n"
   ]
  },
  {
   "cell_type": "code",
   "execution_count": 179,
   "metadata": {},
   "outputs": [
    {
     "name": "stdout",
     "output_type": "stream",
     "text": [
      "True\n",
      "True\n",
      "False\n",
      "False\n",
      "False\n",
      "True\n",
      "DINESH5\n"
     ]
    }
   ],
   "source": [
    "#8 is check method\n",
    "#1 isalnum()\n",
    "a='Dinesh'\n",
    "print(a.isalnum())\n",
    "a='Dinesh5'\n",
    "print(a.isalnum())\n",
    "#2 isalpha()\n",
    "print(a.isalpha())\n",
    "#3 islower()\n",
    "print(a.islower())\n",
    "print(a.isupper())\n",
    "#4 endswith()\n",
    "print(a.endswith('5'))\n",
    "print(a.upper())"
   ]
  },
  {
   "cell_type": "markdown",
   "metadata": {},
   "source": [
    "## 3. LIST(MUTABLE)"
   ]
  },
  {
   "cell_type": "code",
   "execution_count": 180,
   "metadata": {},
   "outputs": [
    {
     "name": "stdout",
     "output_type": "stream",
     "text": [
      "<class 'list'>\n",
      "<class 'list'>\n"
     ]
    }
   ],
   "source": [
    "#Creating empty list\n",
    "k=[]\n",
    "print(type(k))\n",
    "m=list()\n",
    "print(type(m))"
   ]
  },
  {
   "cell_type": "code",
   "execution_count": 182,
   "metadata": {},
   "outputs": [
    {
     "name": "stdout",
     "output_type": "stream",
     "text": [
      "['Dinesh', 'Bafila', 57, (6+10j)]\n",
      "Dinesh\n"
     ]
    }
   ],
   "source": [
    "a=['Dinesh','Bafila',57,6+10j]\n",
    "print(a)\n",
    "print(a[0])"
   ]
  },
  {
   "cell_type": "code",
   "execution_count": 183,
   "metadata": {},
   "outputs": [
    {
     "name": "stdout",
     "output_type": "stream",
     "text": [
      "['Dinesh', 'Bafila', 57, (6+10j)]\n",
      "(6+10j)\n",
      "['Dinesh', 57]\n",
      "[(6+10j), 57, 'Bafila', 'Dinesh']\n",
      "['Dinesh', 'Bafila', 57, (6+10j)]\n"
     ]
    }
   ],
   "source": [
    "#1 slicing operator\n",
    "print(a[::])\n",
    "print(a[-1])\n",
    "print(a[::2])\n",
    "#Inverse the string\n",
    "print(a[::-1])\n",
    "print(a)"
   ]
  },
  {
   "cell_type": "code",
   "execution_count": 184,
   "metadata": {},
   "outputs": [
    {
     "name": "stdout",
     "output_type": "stream",
     "text": [
      "Dinesh\n",
      "Bafila\n",
      "['Dinesh', 'Bafila'] <class 'list'>\n"
     ]
    }
   ],
   "source": [
    "#print all the string present in the list\n",
    "for i in a:\n",
    "    if(type(i)==str):\n",
    "        print(i)\n",
    "#create other list of string from existing list\n",
    "k=[]\n",
    "for i in a:\n",
    "    if(type(i)==str):\n",
    "        k.append(i)\n",
    "print(k,type(k))"
   ]
  },
  {
   "cell_type": "code",
   "execution_count": 185,
   "metadata": {},
   "outputs": [
    {
     "name": "stdout",
     "output_type": "stream",
     "text": [
      "['D', 'i', 'n', 'e', 's', 'h']\n",
      "D\n",
      "['Dinesh']\n",
      "['Dinesh', 'Bafila']\n"
     ]
    }
   ],
   "source": [
    "#difference between list() and []\n",
    "l=list('Dinesh')\n",
    "print(l) # it scatter the entire list into characters\n",
    "print(l[0])\n",
    "#l1=list(\"dinesh\",\"Bafila\")# error:list expected at most 1 arguments, got 2\n",
    "l2=['Dinesh']\n",
    "print(l2)\n",
    "l3=['Dinesh','Bafila']\n",
    "print(l3)"
   ]
  },
  {
   "cell_type": "code",
   "execution_count": 186,
   "metadata": {},
   "outputs": [
    {
     "name": "stdout",
     "output_type": "stream",
     "text": [
      "['dinesh']\n",
      "['dinesh', 'Bafila']\n",
      "['dinesh', 'JI']\n",
      "['dinesh', 'JI', ['bafila', 'HI']]\n",
      "['bafila', 'HI']\n",
      "bafila\n",
      "['bafila', 'HI']\n"
     ]
    }
   ],
   "source": [
    "#List Methods\n",
    "#1 append(): appemd element at tail of list, it also shows the concept of mutability\n",
    "l=['dinesh']\n",
    "print(l)\n",
    "l.append('Bafila')\n",
    "print(l)#now it has two elements\n",
    "#l[2]='Dinesh' #error :list assignment index out of range\n",
    "l[1]='JI' #Replace index no.1 element with string 'ji'\n",
    "print(l)\n",
    "#append list\n",
    "l1=['bafila','HI']\n",
    "l.append(l1)#it does not unwrap the list it direclty add the list\n",
    "print(l)\n",
    "#to access nested list element\n",
    "#step 1:\n",
    "print(l[2])\n",
    "#step 2\n",
    "print(l[2][0]) #nested access (finish)\n",
    "print(l[2])"
   ]
  },
  {
   "cell_type": "code",
   "execution_count": 187,
   "metadata": {},
   "outputs": [
    {
     "name": "stdout",
     "output_type": "stream",
     "text": [
      "['dinesh', 'Bafila', '53333']\n",
      "['dinesh', 'Bafila', '53333', 'M.Tech.']\n",
      "['dinesh', 'Bafila', '53333', ['Computer', 'Science'], 'M.Tech.']\n",
      "Science\n",
      "['S', 'c', 'i', 'e', 'n', 'c', 'e']\n",
      "ecneicS\n",
      "alifaB\n",
      "[]\n",
      "[[]]\n"
     ]
    }
   ],
   "source": [
    "#2 insert(): insert elemnt at particular or specified index\n",
    "l1=['dinesh','53333']\n",
    "l1.insert(1,'Bafila')# it will not replace index no.1 elemnt but shift that elemnt\n",
    "print(l1)\n",
    "l1.insert(3,'M.Tech.')\n",
    "print(l1)\n",
    "#insert a list inside a list\n",
    "l2=['Computer','Science']\n",
    "l1.insert(-1,l2) #Incase of +ve index insert method insert the data at exact index but incase of negative index it insert the data befor the index\n",
    "print(l1)\n",
    "#want to access science\n",
    "print(l1[3][1])\n",
    "#want  to scatter string science into character\n",
    "a=list(l1[3][1])\n",
    "print(a)\n",
    "#Now reverse 'science' present in list l1\n",
    "print(l1[3][1][::-1])\n",
    "#reverse bafila\n",
    "print(l1[1][::-1])\n",
    "#Imp\n",
    "l3=['dinesh']\n",
    "print(l3[3:0])#conflict\n",
    "print([l3[1:3:-1]])#conflict"
   ]
  },
  {
   "cell_type": "code",
   "execution_count": 188,
   "metadata": {},
   "outputs": [
    {
     "name": "stdout",
     "output_type": "stream",
     "text": [
      "['dinesh', 'bafila', 'CSE', 'Engg']\n",
      "['dinesh', 'bafila']\n"
     ]
    }
   ],
   "source": [
    "#3 concat\n",
    "a=['dinesh','bafila']\n",
    "b=['CSE','Engg']\n",
    "print(a+b)#it unwrap and then add list, this actually doesnt change the original list, solution: reassign or dereferencing\n",
    "print(a)"
   ]
  },
  {
   "cell_type": "code",
   "execution_count": 189,
   "metadata": {},
   "outputs": [
    {
     "name": "stdout",
     "output_type": "stream",
     "text": [
      "['dinesh', 1, 2, 3, 'bafila', 5, 2, 3]\n",
      "['hello', 'dineshji']\n",
      "['dinesh', 1, 2, 3, 'bafila', 5, 2, 3, ['ji', 'hi']]\n"
     ]
    }
   ],
   "source": [
    "#4 extend(), #it unwrap list and then add permanently\n",
    "l1=['dinesh',1,2,3]\n",
    "l2=['bafila',5,2,3]\n",
    "l1.extend(l2)\n",
    "print(l1)\n",
    "l3=['hello']\n",
    "l3.extend(['dineshji'])\n",
    "print(l3)\n",
    "l1=['dinesh',1,2,3]\n",
    "l2=['bafila',5,2,3,['ji','hi']]\n",
    "l1.extend(l2)# but not unwrap list inside list\n",
    "print(l1)"
   ]
  },
  {
   "cell_type": "code",
   "execution_count": 190,
   "metadata": {},
   "outputs": [
    {
     "name": "stdout",
     "output_type": "stream",
     "text": [
      "['bafila', 1]\n"
     ]
    }
   ],
   "source": [
    "#5 pop(index number): delete the element from list, by default delete the elemnt of last index\n",
    "l1=['dinesh','bafila',1,2]\n",
    "l1.pop()\n",
    "l1.pop(0)\n",
    "print(l1)"
   ]
  },
  {
   "cell_type": "code",
   "execution_count": 191,
   "metadata": {},
   "outputs": [
    {
     "name": "stdout",
     "output_type": "stream",
     "text": [
      "[1, 2, 4]\n"
     ]
    }
   ],
   "source": [
    "#5 remove():remove a particular elemnt permanently\n",
    "l1=[1,2,3,4]\n",
    "l1.remove(3)\n",
    "print(l1)"
   ]
  },
  {
   "cell_type": "code",
   "execution_count": 192,
   "metadata": {},
   "outputs": [
    {
     "data": {
      "text/plain": [
       "<str_iterator at 0x168624f6208>"
      ]
     },
     "execution_count": 192,
     "metadata": {},
     "output_type": "execute_result"
    }
   ],
   "source": [
    "#6 iter() whether the object is iterable or not\n",
    "#iter(6) #error: 'int' object is not iterable\n",
    "iter('dinesh')"
   ]
  },
  {
   "cell_type": "code",
   "execution_count": 193,
   "metadata": {},
   "outputs": [
    {
     "name": "stdout",
     "output_type": "stream",
     "text": [
      "d\n",
      "dinesh\n"
     ]
    }
   ],
   "source": [
    "#some imp concept\n",
    "l=['dinesh','bafila']\n",
    "#now print d\n",
    "print(l[0][0])\n",
    "s='dinesh'\n",
    "#print(s[8])# error: index out of range\n",
    "print(s[0:8])#no error"
   ]
  },
  {
   "cell_type": "code",
   "execution_count": 194,
   "metadata": {},
   "outputs": [
    {
     "name": "stdout",
     "output_type": "stream",
     "text": [
      "['Bafila', 'dinesh']\n",
      "['dinesh', 'Bafila']\n",
      "['Bafila', 'dinesh']\n",
      "alifaB\n"
     ]
    }
   ],
   "source": [
    "#7 Reversing a list using slicing and reverse() method\n",
    "#1. using slicing\n",
    "a=['dinesh','Bafila']\n",
    "print(a[::-1])\n",
    "#but this will not permanently reverse the list, see\n",
    "a[::-1]\n",
    "print(a)\n",
    "#2 reverse() method: This will permanently reverse the list\n",
    "a.reverse()\n",
    "print(a)#This has permanently reverse the list\n",
    "#revrese bafila\n",
    "print(a[0][::-1])\n",
    "#a[0].reverse() #error: gives an error because it access the string and string does not have any reverse method()\n",
    "#print(a)"
   ]
  },
  {
   "cell_type": "code",
   "execution_count": 195,
   "metadata": {},
   "outputs": [
    {
     "name": "stdout",
     "output_type": "stream",
     "text": [
      "enter the length of the list4\n",
      "Enter the list elements\n",
      "1\n",
      "dinesh\n",
      "bafila\n",
      "3\n",
      "Your List elemnts are:\n",
      "1\n",
      "dinesh\n",
      "bafila\n",
      "3\n",
      "list after reversing the string elements in the list:\n",
      "1\n",
      "hsenid\n",
      "alifab\n",
      "3\n"
     ]
    }
   ],
   "source": [
    "#Some Program related to reverse\n",
    "#1.Reverse only string elemnts given in a list\n",
    "n=int(input(\"enter the length of the list\"))\n",
    "b=[]\n",
    "print(\"Enter the list elements\")\n",
    "for i in range(n):\n",
    "      b.append(input())\n",
    "print(\"Your List elemnts are:\")\n",
    "for i in range(n):\n",
    "      print(b[i])\n",
    "print(\"list after reversing the string elements in the list:\")\n",
    "for i in range(n):\n",
    "      if(type(b[i])==str):\n",
    "            print(b[i][::-1])"
   ]
  },
  {
   "cell_type": "code",
   "execution_count": 199,
   "metadata": {},
   "outputs": [
    {
     "name": "stdout",
     "output_type": "stream",
     "text": [
      "['alifab', 'hsenid']\n"
     ]
    }
   ],
   "source": [
    "#2 reverse the string element present inside a nested list\n",
    "l1=[1,2,3,['dinesh','bafila']]\n",
    "a=[]\n",
    "for i in l1:\n",
    "    if(type(i)==list):\n",
    "        for j in i[::-1]:\n",
    "            a.append(j[::-1])\n",
    "print(a)"
   ]
  },
  {
   "cell_type": "code",
   "execution_count": 200,
   "metadata": {},
   "outputs": [
    {
     "name": "stdout",
     "output_type": "stream",
     "text": [
      "0\n",
      "1\n",
      "2\n",
      "3\n",
      "4\n",
      "No item left\n"
     ]
    }
   ],
   "source": [
    "#for-else loop: else will only execute when for loop completely execute its iteratiin\n",
    "for i in range(5):\n",
    "    print(i)\n",
    "else:\n",
    "    print('No item left')"
   ]
  },
  {
   "cell_type": "code",
   "execution_count": 203,
   "metadata": {},
   "outputs": [
    {
     "name": "stdout",
     "output_type": "stream",
     "text": [
      "[1, 2, 3, 4, 5, 7, 8]\n",
      "[2, 3, 3, 4, 5, 6, 7]\n",
      "[7, 6, 5, 4, 3, 3, 2]\n",
      "['d', 'i', 'n', 'e', 's', 'h']\n",
      "['d', 'e', 'h', 'i', 'n', 's']\n"
     ]
    }
   ],
   "source": [
    "#8 sort() by default sort list in ascending if you want to sort elemnt in descending then sort(reverse=True)\n",
    "l=[1,5,7,8,2,3,4]\n",
    "l.sort()\n",
    "print(l)\n",
    "#l1=[1,2,3,'dinesh']#give error only numeric or string\n",
    "l1=[4,3,5,6,7,2,3]\n",
    "l1.sort()#ascending\n",
    "print(l1)\n",
    "l1.sort(reverse=True)#descending\n",
    "print(l1)\n",
    "#sort alphabet\n",
    "l2=['dinesh']\n",
    "l3=list(l2[0])\n",
    "print(l3)\n",
    "l3.sort()\n",
    "print(l3)"
   ]
  },
  {
   "cell_type": "code",
   "execution_count": 204,
   "metadata": {},
   "outputs": [
    {
     "name": "stdout",
     "output_type": "stream",
     "text": [
      "0\n",
      "2\n",
      "4\n",
      "6\n",
      "8\n"
     ]
    }
   ],
   "source": [
    "#range: range(start(inclusive),stop(exclusive),step)\n",
    "for i in range(0,10,2):\n",
    "    print(i)"
   ]
  },
  {
   "cell_type": "code",
   "execution_count": 205,
   "metadata": {},
   "outputs": [
    {
     "name": "stdout",
     "output_type": "stream",
     "text": [
      "6\n",
      "5\n"
     ]
    }
   ],
   "source": [
    "#9 len()\n",
    "a='dinesh'\n",
    "b=[1,2,3,4,'dinesh']\n",
    "print(len(a))\n",
    "print(len(b))"
   ]
  },
  {
   "cell_type": "code",
   "execution_count": 206,
   "metadata": {},
   "outputs": [
    {
     "name": "stdout",
     "output_type": "stream",
     "text": [
      "[[1, 2, 3], [4, 5, 6], [7, 8, 9]]\n",
      "8\n"
     ]
    }
   ],
   "source": [
    "#10 Nested list\n",
    "l1=[1,2,3]\n",
    "l2=[4,5,6]\n",
    "l3=[7,8,9]\n",
    "matrix=[l1,l2,l3]\n",
    "print(matrix)\n",
    "#access 8\n",
    "print(matrix[2][1])"
   ]
  },
  {
   "cell_type": "code",
   "execution_count": 207,
   "metadata": {},
   "outputs": [
    {
     "name": "stdout",
     "output_type": "stream",
     "text": [
      "3\n",
      "[2, 5, 8]\n"
     ]
    }
   ],
   "source": [
    "#11 List Comprehension\n",
    "#task: want to access or create a list of all the element present in the between of l1 i.e. [2,5,8]\n",
    "#Method 1: using for loop\n",
    "print(len(matrix))\n",
    "matrix=[l1,l2,l3]\n",
    "l4=[]\n",
    "for i in range(len(matrix)):\n",
    "    l4.append(matrix[i][1])\n",
    "print(l4)"
   ]
  },
  {
   "cell_type": "code",
   "execution_count": 208,
   "metadata": {},
   "outputs": [
    {
     "name": "stdout",
     "output_type": "stream",
     "text": [
      "[2, 5, 8]\n"
     ]
    }
   ],
   "source": [
    "#method 2 using list comprehension\n",
    "a=[row[1] for row in matrix]\n",
    "print(a)"
   ]
  },
  {
   "cell_type": "code",
   "execution_count": 209,
   "metadata": {},
   "outputs": [
    {
     "name": "stdout",
     "output_type": "stream",
     "text": [
      "2\n"
     ]
    }
   ],
   "source": [
    " #12 index(): return the index of a number\n",
    "l1=[1,2,3,4]\n",
    "print(l1.index(3))"
   ]
  },
  {
   "cell_type": "markdown",
   "metadata": {},
   "source": [
    "## 4. TUPLE (IMMUTABLE)"
   ]
  },
  {
   "cell_type": "code",
   "execution_count": 214,
   "metadata": {},
   "outputs": [
    {
     "name": "stdout",
     "output_type": "stream",
     "text": [
      "<class 'tuple'>\n",
      "(1, 2, 3, 4, 'Python', 'Java')\n",
      "1\n",
      "(1, 2, 3, 4, 'Python')\n"
     ]
    }
   ],
   "source": [
    "#1 Constructing a Tuple\n",
    "t=()\n",
    "print(type(t))\n",
    "t=(1,2,3,4,'Python','Java')\n",
    "print(t)\n",
    "print(t[0])\n",
    "print(t[0:5])\n",
    "#t[1]=1 error item assignmemnt is not possible here"
   ]
  },
  {
   "cell_type": "code",
   "execution_count": 217,
   "metadata": {},
   "outputs": [
    {
     "name": "stdout",
     "output_type": "stream",
     "text": [
      "(1, 2, 3, 4, [1, 2, 3, 4])\n",
      "(1, 2, 3, [4, 6, 7], (1, 2, 10, 4))\n"
     ]
    }
   ],
   "source": [
    "#1 List inside tuple\n",
    "t=(1,2,3,4,[1,2,3,4])\n",
    "print(t)\n",
    "#Tuple inside tuple\n",
    "t1=(1,2,3,[4,6,7],(1,2,10,4))\n",
    "print(t1)"
   ]
  },
  {
   "cell_type": "code",
   "execution_count": 222,
   "metadata": {},
   "outputs": [
    {
     "name": "stdout",
     "output_type": "stream",
     "text": [
      "[1, 2, 3, 4, 2, 5, 6, [2, 3]]\n",
      "[1, 2, 1, 4, 2, 5, 6, [2, 3]]\n"
     ]
    }
   ],
   "source": [
    "#changing a tuple into list\n",
    "t2=(1,2,3,4,2,5,6,[2,3])\n",
    "t3=list(t2)#After changing a tuple into list now we can change there values \n",
    "print(t3)\n",
    "t3[2]=1\n",
    "print(t3)"
   ]
  },
  {
   "cell_type": "code",
   "execution_count": 227,
   "metadata": {},
   "outputs": [
    {
     "name": "stdout",
     "output_type": "stream",
     "text": [
      "1\n",
      "2\n",
      "2\n",
      "3\n",
      "4\n",
      "1\n",
      "2\n"
     ]
    }
   ],
   "source": [
    "#Iterate over tuple\n",
    "t=(1,2,2,3,4)\n",
    "for i in t:\n",
    "    print(i)\n",
    "#index() Return the index of that particular element\n",
    "print(t.index(2))\n",
    "#count()\n",
    "print(t.count(2))"
   ]
  },
  {
   "cell_type": "code",
   "execution_count": 229,
   "metadata": {},
   "outputs": [
    {
     "name": "stdout",
     "output_type": "stream",
     "text": [
      "(2, 3, 4, 5, [66, 6, 7, 8, 67])\n",
      "(2, 3, 4, 5, [67, 6, 7, 8, 67])\n"
     ]
    }
   ],
   "source": [
    "#If a list present inside a tuple then we can change its element\n",
    "t1=(2,3,4,5,[66,6,7,8,67])\n",
    "print(t1)\n",
    "t1[4][0]=67\n",
    "print(t1)"
   ]
  },
  {
   "cell_type": "code",
   "execution_count": 233,
   "metadata": {},
   "outputs": [
    {
     "name": "stdout",
     "output_type": "stream",
     "text": [
      "0\n",
      "1\n",
      "2\n",
      "3\n",
      "4\n",
      "5\n",
      "4\n",
      "5\n",
      "8\n",
      "4\n",
      "1\n",
      "0\n"
     ]
    }
   ],
   "source": [
    "t2=(0,1,2,3,4,5,4,5,7,4,True,False)\n",
    "for i in t2:\n",
    "    print(t2.index(i))"
   ]
  },
  {
   "cell_type": "markdown",
   "metadata": {},
   "source": [
    "## 4. SETS"
   ]
  },
  {
   "cell_type": "code",
   "execution_count": 234,
   "metadata": {},
   "outputs": [
    {
     "name": "stdout",
     "output_type": "stream",
     "text": [
      "<class 'set'>\n"
     ]
    }
   ],
   "source": [
    "x=set()\n",
    "print(type(x))"
   ]
  },
  {
   "cell_type": "code",
   "execution_count": 240,
   "metadata": {},
   "outputs": [
    {
     "name": "stdout",
     "output_type": "stream",
     "text": [
      "{'d', 'n', 'e', 's', 'i', 'h'}\n",
      "{1, 2, 3, 4, 5, 'dinesh'}\n"
     ]
    }
   ],
   "source": [
    "#set(1,2,3,4) error:set expected at most 1 arguments, got 4\n",
    "print(set('dinesh'))\n",
    "#set(1) error: Int is not iterable\n",
    "#list(1) error: Int is not iterable\n",
    "print(set([1,2,3,4,5,'dinesh']))"
   ]
  },
  {
   "cell_type": "code",
   "execution_count": 244,
   "metadata": {},
   "outputs": [
    {
     "name": "stdout",
     "output_type": "stream",
     "text": [
      "{1, 2, 3, 4, 5, 6, 7, 8}\n",
      "[1, 2, 3, 4, 5, 6, 7]\n"
     ]
    }
   ],
   "source": [
    "#Set remove all the duplicate emenets by itself\n",
    "s={1,2,3,2,3,4,4,5,6,7,8}\n",
    "print(s)\n",
    "#program to remove duplicate elemnets from a list\n",
    "l=[1,2,3,4,2,3,4,5,6,7]\n",
    "t=set(l)\n",
    "l1=list(t)\n",
    "print(l1)"
   ]
  },
  {
   "cell_type": "code",
   "execution_count": 245,
   "metadata": {},
   "outputs": [
    {
     "data": {
      "text/plain": [
       "{1, 2, 23, 3, 45, 56, 'di', 'fsfs'}"
      ]
     },
     "execution_count": 245,
     "metadata": {},
     "output_type": "execute_result"
    }
   ],
   "source": [
    "#set is unoresers collection of elements meaning\n",
    "set(['fsfs',1,2,3,45,23,56,'di'])"
   ]
  },
  {
   "cell_type": "code",
   "execution_count": 248,
   "metadata": {},
   "outputs": [],
   "source": [
    "#set dooesnt support indexing and slicing so its better to convert set into list and then perform whatever task you want to perform\n",
    "s={1,2,3,4}\n",
    "#print(s[0]) error set object is not subsciptable"
   ]
  },
  {
   "cell_type": "code",
   "execution_count": 250,
   "metadata": {},
   "outputs": [
    {
     "name": "stdout",
     "output_type": "stream",
     "text": [
      "{1, 2, 3, 4, 6}\n",
      "1\n",
      "2\n",
      "3\n",
      "4\n",
      "6\n"
     ]
    }
   ],
   "source": [
    "#add()\n",
    "s={1,2,3,4}\n",
    "s.add(6)\n",
    "print(s)\n",
    "#iterate through set\n",
    "for i in s:\n",
    "    print(i)"
   ]
  },
  {
   "cell_type": "code",
   "execution_count": 253,
   "metadata": {},
   "outputs": [
    {
     "name": "stdout",
     "output_type": "stream",
     "text": [
      "{1, 2, 3, 4, 5, 6}\n"
     ]
    }
   ],
   "source": [
    "#1. union\n",
    "s1={1,2,3,4}\n",
    "s2={3,4,5,6}\n",
    "s3=s1|s2\n",
    "print(s3)"
   ]
  },
  {
   "cell_type": "code",
   "execution_count": 254,
   "metadata": {},
   "outputs": [
    {
     "name": "stdout",
     "output_type": "stream",
     "text": [
      "{3, 4}\n"
     ]
    }
   ],
   "source": [
    "#2. inersection\n",
    "print(s1&s2)"
   ]
  },
  {
   "cell_type": "code",
   "execution_count": 255,
   "metadata": {},
   "outputs": [
    {
     "name": "stdout",
     "output_type": "stream",
     "text": [
      "{1, 2}\n"
     ]
    }
   ],
   "source": [
    "#3. diffrence\n",
    "print(s1-s2)"
   ]
  },
  {
   "cell_type": "code",
   "execution_count": 257,
   "metadata": {},
   "outputs": [
    {
     "name": "stdout",
     "output_type": "stream",
     "text": [
      "{1, 2, 5, 6}\n"
     ]
    }
   ],
   "source": [
    "#4 Symmetric Diffrence\n",
    "print(s1^s2)"
   ]
  },
  {
   "cell_type": "markdown",
   "metadata": {},
   "source": [
    "## 6. Dictionary"
   ]
  },
  {
   "cell_type": "code",
   "execution_count": 258,
   "metadata": {},
   "outputs": [
    {
     "name": "stdout",
     "output_type": "stream",
     "text": [
      "<class 'dict'>\n"
     ]
    }
   ],
   "source": [
    "#List is nothing but hash table (Key value pair)\n",
    "d={}\n",
    "print(type(d))"
   ]
  },
  {
   "cell_type": "code",
   "execution_count": 263,
   "metadata": {},
   "outputs": [
    {
     "name": "stdout",
     "output_type": "stream",
     "text": [
      "{'Name': 'Dinesh'}\n",
      "{'Name': 'Deepak'}\n",
      "{123: 234, 234: 'Deepak'}\n"
     ]
    }
   ],
   "source": [
    "#String as key\n",
    "d={'Name':'Dinesh'}\n",
    "print(d)\n",
    "d1={'Name':'Dinesh','Name':'Deepak'}\n",
    "print(d1) # Override by the latest value\n",
    "#Integer as key\n",
    "d2={123:234,234:'Deepak'}\n",
    "print(d2)\n",
    "#Special character (#,@ etc are not allowed as key)"
   ]
  },
  {
   "cell_type": "code",
   "execution_count": 265,
   "metadata": {},
   "outputs": [
    {
     "name": "stdout",
     "output_type": "stream",
     "text": [
      "{'Name': ['dinesh', 'deepak'], 'ID': {1, 2, 3}}\n"
     ]
    }
   ],
   "source": [
    "#Whether collections are allowed as key or not (Unhashable Type error)\n",
    "#d={[1,2,3]:'Dinesh'}\n",
    "#print(d)\n",
    "#Whether collections like list, tuple are allowed as value or not \n",
    "d={'Name':['dinesh','deepak'],'ID':{1,2,3}}\n",
    "print(d)"
   ]
  },
  {
   "cell_type": "code",
   "execution_count": 269,
   "metadata": {},
   "outputs": [
    {
     "name": "stdout",
     "output_type": "stream",
     "text": [
      "{'Name': 'Dinesh', 'ID': 54101, 'Address': {'City': 'Delhi', 'Code': 54101}}\n",
      "{'City': 'Delhi', 'Code': 54101}\n",
      "Delhi\n"
     ]
    }
   ],
   "source": [
    "#Dictionarty inside a key\n",
    "d1={'Name':'Dinesh','ID':54101,'Address':{'City':'Delhi','Code':54101}}\n",
    "print(d1)\n",
    "print(d1['Address'])\n",
    "#Accessing value insdie nested dictionary\n",
    "print(d1['Address']['City'])"
   ]
  },
  {
   "cell_type": "code",
   "execution_count": 270,
   "metadata": {},
   "outputs": [
    {
     "name": "stdout",
     "output_type": "stream",
     "text": [
      "54101\n"
     ]
    }
   ],
   "source": [
    "#list inside dictionary\n",
    "d2={'Name':'Dinesh','ID':[54101,54126]}\n",
    "print(d2['ID'][0])"
   ]
  },
  {
   "cell_type": "code",
   "execution_count": 273,
   "metadata": {},
   "outputs": [
    {
     "name": "stdout",
     "output_type": "stream",
     "text": [
      "{'Name': 'Dinesh', 'ID': [54101, 54126], 'Place': 'Delhi'}\n"
     ]
    }
   ],
   "source": [
    "#to add new value in dictionary\n",
    "d2['Place']='Delhi'\n",
    "print(d2)\n",
    "#if key available it override the key\n"
   ]
  },
  {
   "cell_type": "code",
   "execution_count": 274,
   "metadata": {},
   "outputs": [
    {
     "name": "stdout",
     "output_type": "stream",
     "text": [
      "dict_keys(['Name', 'ID', 'Place'])\n"
     ]
    }
   ],
   "source": [
    "#Methods of dictionary\n",
    "#1.keys()\n",
    "print(d2.keys())"
   ]
  },
  {
   "cell_type": "code",
   "execution_count": 278,
   "metadata": {},
   "outputs": [
    {
     "name": "stdout",
     "output_type": "stream",
     "text": [
      "Name\n",
      "ID\n",
      "Place\n",
      "Dinesh\n",
      "[54101, 54126]\n",
      "Delhi\n"
     ]
    }
   ],
   "source": [
    "#iterate throug dictionary\n",
    "for i in d2:\n",
    "    print(i)\n",
    "#To get values\n",
    "a=d2.keys()\n",
    "for i in a:\n",
    "    print(d2[i])"
   ]
  },
  {
   "cell_type": "code",
   "execution_count": 279,
   "metadata": {},
   "outputs": [
    {
     "name": "stdout",
     "output_type": "stream",
     "text": [
      "dict_items([('Name', 'Dinesh'), ('ID', [54101, 54126]), ('Place', 'Delhi')])\n"
     ]
    }
   ],
   "source": [
    "#2 items()\n",
    "print(d2.items())"
   ]
  },
  {
   "cell_type": "code",
   "execution_count": 280,
   "metadata": {},
   "outputs": [
    {
     "name": "stdout",
     "output_type": "stream",
     "text": [
      "dict_values(['Dinesh', [54101, 54126], 'Delhi'])\n"
     ]
    }
   ],
   "source": [
    "#3 values()\n",
    "print(d2.values())"
   ]
  },
  {
   "cell_type": "code",
   "execution_count": 281,
   "metadata": {},
   "outputs": [
    {
     "data": {
      "text/plain": [
       "{0: 0, 1: 1, 2: 4, 3: 9, 4: 16, 5: 25, 6: 36, 7: 49, 8: 64, 9: 81}"
      ]
     },
     "execution_count": 281,
     "metadata": {},
     "output_type": "execute_result"
    }
   ],
   "source": [
    "#Dictionary compreheansion\n",
    "{i:i**2 for i in range(10)}"
   ]
  },
  {
   "cell_type": "code",
   "execution_count": 285,
   "metadata": {},
   "outputs": [
    {
     "name": "stdout",
     "output_type": "stream",
     "text": [
      "{'key1': {'nestkey': {'subnestkey': 'values'}}}\n",
      "{'nestkey': {'subnestkey': 'values'}}\n",
      "{'subnestkey': 'values'}\n",
      "values\n"
     ]
    }
   ],
   "source": [
    "#Nested Dictionary\n",
    "d3={'key1':{'nestkey':{'subnestkey':'values'}}}\n",
    "print(d3)\n",
    "print(d3['key1'])\n",
    "print(d3['key1']['nestkey'])\n",
    "print(d3['key1']['nestkey']['subnestkey'])"
   ]
  },
  {
   "cell_type": "code",
   "execution_count": 287,
   "metadata": {},
   "outputs": [
    {
     "name": "stdout",
     "output_type": "stream",
     "text": [
      "{'key1': 'Dinesh', 'key2': 'Bafila', 'key3': 'Dinesh'}\n"
     ]
    }
   ],
   "source": [
    "#program to copy the value of one key into other\n",
    "d={'key1':'Dinesh','key2':'Bafila'}\n",
    "d['key3']=d['key1']\n",
    "print(d)"
   ]
  },
  {
   "cell_type": "code",
   "execution_count": 296,
   "metadata": {},
   "outputs": [
    {
     "name": "stdout",
     "output_type": "stream",
     "text": [
      "{'key1': [1, 2, 3, 4], 'key2': [10, 20, 30, 40, 50]}\n"
     ]
    }
   ],
   "source": [
    "#program to change the value of list inside dictionary\n",
    "d3={'key1':[1,2,3,4],'key2':[1,2,3,4,5]}\n",
    "d3['key2']=[i*10 for i in d3['key2']]\n",
    "print(d3)"
   ]
  },
  {
   "cell_type": "code",
   "execution_count": null,
   "metadata": {},
   "outputs": [],
   "source": []
  }
 ],
 "metadata": {
  "kernelspec": {
   "display_name": "Python 3",
   "language": "python",
   "name": "python3"
  },
  "language_info": {
   "codemirror_mode": {
    "name": "ipython",
    "version": 3
   },
   "file_extension": ".py",
   "mimetype": "text/x-python",
   "name": "python",
   "nbconvert_exporter": "python",
   "pygments_lexer": "ipython3",
   "version": "3.7.3"
  }
 },
 "nbformat": 4,
 "nbformat_minor": 2
}
