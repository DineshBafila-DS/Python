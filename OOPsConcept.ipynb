{
 "cells": [
  {
   "cell_type": "markdown",
   "metadata": {},
   "source": [
    "# OBJECT ORIENTED PROGRAMMING"
   ]
  },
  {
   "cell_type": "code",
   "execution_count": 11,
   "metadata": {},
   "outputs": [
    {
     "name": "stdout",
     "output_type": "stream",
     "text": [
      "<__main__.Person object at 0x0000020987D786A0>\n",
      "My name is Dinesh Bafila\n",
      "My name is Ramesh Kumar\n"
     ]
    }
   ],
   "source": [
    "class Person:\n",
    "    pass\n",
    "#create first object\n",
    "object1=Person() #Creating class variable or object\n",
    "object1.name='Dinesh'\n",
    "object1.surname='Bafila'\n",
    "print(object1)\n",
    "print(\"My name is %s %s\"%(object1.name,object1.surname))\n",
    "#Now Create second object\n",
    "obj2=Person()\n",
    "obj2.name='Ramesh'\n",
    "obj2.surname='Kumar'\n",
    "print(\"My name is %s %s\"%(obj2.name,obj2.surname))\n",
    "#This is not a good way because here we have to create variables like name and surname for each object"
   ]
  },
  {
   "cell_type": "code",
   "execution_count": 29,
   "metadata": {},
   "outputs": [
    {
     "name": "stdout",
     "output_type": "stream",
     "text": [
      "My Name is Dinesh Bafila and i was born in 1997\n",
      "Dinesh\n",
      "My Name is Ramesh Kumar and i was born in 1996\n"
     ]
    }
   ],
   "source": [
    "#__init__(self,....)\n",
    "class Person:\n",
    "    def __init__(self,name,surname):\n",
    "        self.name1=name\n",
    "        self.surname1=surname\n",
    "    def age(self,year):\n",
    "        self.year1=year\n",
    "        return self.year1\n",
    "    def __str__(self):\n",
    "        return 'My Name is %s %s and i was born in %d'%(self.name1,self.surname1,self.year1)\n",
    "obj1=Person('Dinesh','Bafila')\n",
    "obj2=Person('Ramesh','Kumar')\n",
    "obj1.age(1997)\n",
    "obj2.age(1996)\n",
    "print(obj1)\n",
    "print(obj1.name1)\n",
    "print(obj2)"
   ]
  },
  {
   "cell_type": "markdown",
   "metadata": {},
   "source": [
    "### Abstraction"
   ]
  },
  {
   "cell_type": "code",
   "execution_count": 34,
   "metadata": {},
   "outputs": [
    {
     "name": "stdout",
     "output_type": "stream",
     "text": [
      "My Name is Dinesh Bafila and i was born in 1997\n",
      "Dinesh\n",
      "{'_name1': 'Dinesh', '_surname1': 'Bafila', '_year1': 1997}\n",
      "My Name is Ramesh Kumar and i was born in 1996\n"
     ]
    }
   ],
   "source": [
    "#No such concept in python. If a variable start with single underscore(_) is protected and a  ariable start with double underscore(__) is private\n",
    "#lets modify a little bit the above example, here we have added _ before variable name so they all are now protected\n",
    "class Person:\n",
    "    def __init__(self,name,surname):\n",
    "        self._name1=name\n",
    "        self._surname1=surname\n",
    "    def age(self,year):\n",
    "        self._year1=year\n",
    "        return self._year1\n",
    "    def __str__(self):\n",
    "        return 'My Name is %s %s and i was born in %d'%(self._name1,self._surname1,self._year1)\n",
    "obj1=Person('Dinesh','Bafila')\n",
    "obj2=Person('Ramesh','Kumar')\n",
    "obj1.age(1997)\n",
    "obj2.age(1996)\n",
    "print(obj1)\n",
    "print(obj1._name1)\n",
    "print(obj1.__dict__)\n",
    "print(obj2)"
   ]
  },
  {
   "cell_type": "code",
   "execution_count": 33,
   "metadata": {},
   "outputs": [
    {
     "name": "stdout",
     "output_type": "stream",
     "text": [
      "{'_Person__name1': 'Dinesh', '_Person__surname1': 'Bafila', '_Person__year1': 1997}\n",
      "Dinesh\n",
      "My Name is Ramesh Kumar and i was born in 1996\n"
     ]
    }
   ],
   "source": [
    "#lets modify a little bit the above example, here we have added __ before variable name so they all are now private\n",
    "class Person:\n",
    "    def __init__(self,name,surname):\n",
    "        self.__name1=name\n",
    "        self.__surname1=surname\n",
    "    def age(self,year):\n",
    "        self.__year1=year\n",
    "        return self.__year1\n",
    "    def __str__(self):\n",
    "        return 'My Name is %s %s and i was born in %d'%(self.__name1,self.__surname1,self.__year1)\n",
    "obj1=Person('Dinesh','Bafila')\n",
    "obj2=Person('Ramesh','Kumar')\n",
    "obj1.age(1997)\n",
    "obj2.age(1996)\n",
    "#print(obj1.__name1)#error\n",
    "#solution\n",
    "print(obj1.__dict__)\n",
    "print(obj1._Person__name1)#format is diffrent\n",
    "print(obj2)"
   ]
  },
  {
   "cell_type": "markdown",
   "metadata": {},
   "source": [
    "### INHERITANCE"
   ]
  },
  {
   "cell_type": "code",
   "execution_count": 40,
   "metadata": {},
   "outputs": [
    {
     "name": "stdout",
     "output_type": "stream",
     "text": [
      "Dinesh\n",
      "This is test() method of class A\n"
     ]
    }
   ],
   "source": [
    "class A:\n",
    "    def __init__(self,name,yob):\n",
    "        self.name=name\n",
    "        self.yob=yob\n",
    "    def test(self):\n",
    "        print(\"This is test() method of class A\")\n",
    "class B(A):#This is how it inherir class A\n",
    "    def __init__(self,place,*args):\n",
    "        super(B,self).__init__(*args)\n",
    "        self.place=place\n",
    "obj1=B('Delhi','Dinesh',1997)\n",
    "print(obj1.name)\n",
    "obj1.test()"
   ]
  },
  {
   "cell_type": "markdown",
   "metadata": {},
   "source": [
    "## Python Support Multiple Inheritance"
   ]
  },
  {
   "cell_type": "code",
   "execution_count": 15,
   "metadata": {},
   "outputs": [
    {
     "name": "stdout",
     "output_type": "stream",
     "text": [
      "This is class A\n",
      "This is class B\n"
     ]
    }
   ],
   "source": [
    "class A:\n",
    "    def test(a):\n",
    "        print(\"This is class A\")\n",
    "class B:\n",
    "    def test1(b):\n",
    "        print(\"This is class B\")\n",
    "class C(A,B):#here we have inhertited both class A and class B\n",
    "    pass\n",
    "obj1=C()\n",
    "obj1.test()\n",
    "obj1.test1()"
   ]
  },
  {
   "cell_type": "code",
   "execution_count": 31,
   "metadata": {},
   "outputs": [
    {
     "name": "stdout",
     "output_type": "stream",
     "text": [
      "dinesh 10\n",
      "deepak 20\n",
      "hello\n",
      "dinesh\n"
     ]
    }
   ],
   "source": [
    "#Other example\n",
    "class A:\n",
    "    def __init__(self,x,y):\n",
    "        self.x=x\n",
    "        self.y=y\n",
    "    def test(self):\n",
    "        print(self.x,self.y)\n",
    "class B:\n",
    "     def __init__(self,x,y):\n",
    "        self.x=x\n",
    "        self.y=y\n",
    "     def test(self):\n",
    "        print(self.x,self.y)\n",
    "class C(A,B):\n",
    "    pass\n",
    "sudh=C('hello',12)\n",
    "obja=A('dinesh',10)\n",
    "objb=B('deepak',20)\n",
    "obja.test()\n",
    "objb.test()\n",
    "print(sudh.x)\n",
    "print(obja.x)"
   ]
  },
  {
   "cell_type": "code",
   "execution_count": 39,
   "metadata": {},
   "outputs": [
    {
     "name": "stdout",
     "output_type": "stream",
     "text": [
      "Hello class A\n",
      "Hello Class B\n"
     ]
    }
   ],
   "source": [
    "#Other example\n",
    "class A:\n",
    "    def __init__(self,x,y):\n",
    "        self.x=x\n",
    "        self.y=y\n",
    "    def test(self):\n",
    "        print(\"Hello class A\")\n",
    "class B:\n",
    "     def __init__(self,x,y):\n",
    "        self.x=x\n",
    "        self.y=y\n",
    "     def test1(self):\n",
    "        print(\"Hello Class B\")\n",
    "class C(A,B):\n",
    "    pass\n",
    "sudh=C('hello',12)\n",
    "sudh.test()\n",
    "sudh.test1()"
   ]
  },
  {
   "cell_type": "markdown",
   "metadata": {},
   "source": [
    "## Method Overriding"
   ]
  },
  {
   "cell_type": "code",
   "execution_count": 49,
   "metadata": {},
   "outputs": [
    {
     "name": "stdout",
     "output_type": "stream",
     "text": [
      "this is class B method test\n"
     ]
    }
   ],
   "source": [
    "class A:\n",
    "    def test(self):\n",
    "        print('This is class A method test')\n",
    "class B(A):\n",
    "    def test(self):\n",
    "        print('this is class B method test')\n",
    "obj1=B()\n",
    "obj1.test()#override the test method of class A"
   ]
  },
  {
   "cell_type": "markdown",
   "metadata": {},
   "source": [
    "## ENCAPSULATION"
   ]
  },
  {
   "cell_type": "markdown",
   "metadata": {},
   "source": [
    "### 1. Composition"
   ]
  },
  {
   "cell_type": "code",
   "execution_count": 90,
   "metadata": {},
   "outputs": [
    {
     "name": "stdout",
     "output_type": "stream",
     "text": [
      "My name is Ramesh Kumar and I was born in Delhi.\n"
     ]
    }
   ],
   "source": [
    "class Name:\n",
    "    def __init__(self,first_name,last_name):\n",
    "        self.first_name=first_name\n",
    "        self.last_name=last_name\n",
    "    def __str__(self):\n",
    "        return \"My name is %s %s\"%(self.first_name,self.last_name)\n",
    "class Place:\n",
    "    def __init__(self,place):\n",
    "        self.place=place\n",
    "    def __str__(self):\n",
    "        return \" and I was born in %s.\"%(self.place)\n",
    "class C:\n",
    "    def __init__(self,name,place):\n",
    "        self.name=name\n",
    "        self.place=place\n",
    "    def __str__(self):\n",
    "        return str(self.name)+str(self.place)\n",
    "n=Name('Ramesh','Kumar')\n",
    "p=Place('Delhi')\n",
    "c1=C(n,p)\n",
    "print(c1)"
   ]
  },
  {
   "cell_type": "markdown",
   "metadata": {},
   "source": [
    "### 2. Dynamic Encapsulation"
   ]
  },
  {
   "cell_type": "code",
   "execution_count": 89,
   "metadata": {},
   "outputs": [
    {
     "name": "stdout",
     "output_type": "stream",
     "text": [
      "Danny was born in 2020\n",
      "Danny was born in 2020 and its breed is Bully\n"
     ]
    }
   ],
   "source": [
    "#without using inheritance and method overriding we have extended the string here define in clsss Dog\n",
    "class Dog:\n",
    "    def __init__(self, name,yob):\n",
    "        self.name=name\n",
    "        self.yob=yob\n",
    "    def __str__(self):\n",
    "        return \"%s was born in %d\"%(self.name,self.yob)\n",
    "d=Dog('Danny',2020)\n",
    "print(d)\n",
    "class Breed:\n",
    "    def __init__(self,access,breed):\n",
    "        self.access=access\n",
    "        self.breed=breed\n",
    "    def __str__(self):\n",
    "        return str(self.access)+\" and its breed is %s\"%self.breed\n",
    "k2=Breed(d,'Bully')\n",
    "print(k2)"
   ]
  }
 ],
 "metadata": {
  "kernelspec": {
   "display_name": "Python 3",
   "language": "python",
   "name": "python3"
  },
  "language_info": {
   "codemirror_mode": {
    "name": "ipython",
    "version": 3
   },
   "file_extension": ".py",
   "mimetype": "text/x-python",
   "name": "python",
   "nbconvert_exporter": "python",
   "pygments_lexer": "ipython3",
   "version": "3.7.3"
  }
 },
 "nbformat": 4,
 "nbformat_minor": 2
}
