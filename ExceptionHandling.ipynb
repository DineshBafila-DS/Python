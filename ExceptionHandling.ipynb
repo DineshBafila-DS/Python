{
 "cells": [
  {
   "cell_type": "markdown",
   "metadata": {},
   "source": [
    "# EXCEPTION HANDLING"
   ]
  },
  {
   "cell_type": "markdown",
   "metadata": {},
   "source": [
    "Exception is an abnormal condition which disrupts the normal flow of execution"
   ]
  },
  {
   "cell_type": "code",
   "execution_count": 2,
   "metadata": {},
   "outputs": [
    {
     "name": "stdout",
     "output_type": "stream",
     "text": [
      "Hello\n"
     ]
    },
    {
     "ename": "ZeroDivisionError",
     "evalue": "division by zero",
     "output_type": "error",
     "traceback": [
      "\u001b[1;31m---------------------------------------------------------------------------\u001b[0m",
      "\u001b[1;31mZeroDivisionError\u001b[0m                         Traceback (most recent call last)",
      "\u001b[1;32m<ipython-input-2-e2dd8bb7406e>\u001b[0m in \u001b[0;36m<module>\u001b[1;34m\u001b[0m\n\u001b[0;32m      1\u001b[0m \u001b[1;31m#First raise an exception\u001b[0m\u001b[1;33m\u001b[0m\u001b[1;33m\u001b[0m\u001b[1;33m\u001b[0m\u001b[0m\n\u001b[0;32m      2\u001b[0m \u001b[0mprint\u001b[0m\u001b[1;33m(\u001b[0m\u001b[1;34m\"Hello\"\u001b[0m\u001b[1;33m)\u001b[0m\u001b[1;33m\u001b[0m\u001b[1;33m\u001b[0m\u001b[0m\n\u001b[1;32m----> 3\u001b[1;33m \u001b[0ma\u001b[0m\u001b[1;33m=\u001b[0m\u001b[1;36m1\u001b[0m\u001b[1;33m/\u001b[0m\u001b[1;36m0\u001b[0m \u001b[1;31m# Divide by zero exception now rest of the code will not execute\u001b[0m\u001b[1;33m\u001b[0m\u001b[1;33m\u001b[0m\u001b[0m\n\u001b[0m\u001b[0;32m      4\u001b[0m \u001b[0mprint\u001b[0m\u001b[1;33m(\u001b[0m\u001b[0ma\u001b[0m\u001b[1;33m)\u001b[0m\u001b[1;33m\u001b[0m\u001b[1;33m\u001b[0m\u001b[0m\n\u001b[0;32m      5\u001b[0m \u001b[0mprint\u001b[0m\u001b[1;33m(\u001b[0m\u001b[1;34m\"Pythi\"\u001b[0m\u001b[1;33m)\u001b[0m\u001b[1;33m\u001b[0m\u001b[1;33m\u001b[0m\u001b[0m\n",
      "\u001b[1;31mZeroDivisionError\u001b[0m: division by zero"
     ]
    }
   ],
   "source": [
    "#First raise an exception\n",
    "print(\"Hello\")\n",
    "a=1/0 # Divide by zero exception now rest of the code will not execute\n",
    "print(a)\n",
    "print(\"Python\")"
   ]
  },
  {
   "cell_type": "markdown",
   "metadata": {},
   "source": [
    "### 1. try, except block"
   ]
  },
  {
   "cell_type": "code",
   "execution_count": 6,
   "metadata": {},
   "outputs": [
    {
     "name": "stdout",
     "output_type": "stream",
     "text": [
      "Hello\n",
      "We have handled the ecveption using try except block\n",
      "Python\n"
     ]
    }
   ],
   "source": [
    "# Now we will handle the above exception using try except block\n",
    "print(\"Hello\")\n",
    "try:\n",
    "    a=1/0 # Divide by zero exception now rest of the code will not execute\n",
    "    print(a)\n",
    "except ZeroDivisionError:\n",
    "    print(\"We have handled the ecveption using try except block\")\n",
    "print(\"Python\")"
   ]
  },
  {
   "cell_type": "markdown",
   "metadata": {},
   "source": [
    "### 2. finally"
   ]
  },
  {
   "cell_type": "code",
   "execution_count": 8,
   "metadata": {},
   "outputs": [
    {
     "name": "stdout",
     "output_type": "stream",
     "text": [
      "Hello\n",
      "Here we have not catch the exception but this block will always execute\n"
     ]
    },
    {
     "ename": "ZeroDivisionError",
     "evalue": "division by zero",
     "output_type": "error",
     "traceback": [
      "\u001b[1;31m---------------------------------------------------------------------------\u001b[0m",
      "\u001b[1;31mZeroDivisionError\u001b[0m                         Traceback (most recent call last)",
      "\u001b[1;32m<ipython-input-8-af1f8f4efd12>\u001b[0m in \u001b[0;36m<module>\u001b[1;34m\u001b[0m\n\u001b[0;32m      2\u001b[0m \u001b[0mprint\u001b[0m\u001b[1;33m(\u001b[0m\u001b[1;34m\"Hello\"\u001b[0m\u001b[1;33m)\u001b[0m\u001b[1;33m\u001b[0m\u001b[1;33m\u001b[0m\u001b[0m\n\u001b[0;32m      3\u001b[0m \u001b[1;32mtry\u001b[0m\u001b[1;33m:\u001b[0m\u001b[1;33m\u001b[0m\u001b[1;33m\u001b[0m\u001b[0m\n\u001b[1;32m----> 4\u001b[1;33m     \u001b[0ma\u001b[0m\u001b[1;33m=\u001b[0m\u001b[1;36m1\u001b[0m\u001b[1;33m/\u001b[0m\u001b[1;36m0\u001b[0m \u001b[1;31m# Divide by zero exception now rest of the code will not execute\u001b[0m\u001b[1;33m\u001b[0m\u001b[1;33m\u001b[0m\u001b[0m\n\u001b[0m\u001b[0;32m      5\u001b[0m     \u001b[0mprint\u001b[0m\u001b[1;33m(\u001b[0m\u001b[0ma\u001b[0m\u001b[1;33m)\u001b[0m\u001b[1;33m\u001b[0m\u001b[1;33m\u001b[0m\u001b[0m\n\u001b[0;32m      6\u001b[0m \u001b[1;32mfinally\u001b[0m\u001b[1;33m:\u001b[0m\u001b[1;33m\u001b[0m\u001b[1;33m\u001b[0m\u001b[0m\n",
      "\u001b[1;31mZeroDivisionError\u001b[0m: division by zero"
     ]
    }
   ],
   "source": [
    "# finally block always execute irrespective of whether the exception is handled or not.\n",
    "print(\"Hello\")\n",
    "try:\n",
    "    a=1/0 # Divide by zero exception now rest of the code will not execute\n",
    "    print(a)\n",
    "finally:\n",
    "    print(\"Here we have not catch the exception but this block will always execute\")\n",
    "print(\"Python\")"
   ]
  },
  {
   "cell_type": "markdown",
   "metadata": {},
   "source": [
    "### 3. else (try,except, else, and finally)"
   ]
  },
  {
   "cell_type": "code",
   "execution_count": 19,
   "metadata": {},
   "outputs": [
    {
     "name": "stdout",
     "output_type": "stream",
     "text": [
      "Hello\n",
      "No exception occour\n",
      "else block Execute here\n",
      "This block will always execute\n",
      "Python\n"
     ]
    }
   ],
   "source": [
    "#this block will execute only when there is no exception occours.\n",
    "print(\"Hello\")\n",
    "try: \n",
    "    print(\"No exception occour\")\n",
    "except Exception:\n",
    "    print(\"This block will not execute as there is no exception occours\")\n",
    "else:\n",
    "    print(\"else block Execute here\")\n",
    "finally:\n",
    "    print(\"This block will always execute\")\n",
    "print(\"Python\")"
   ]
  },
  {
   "cell_type": "markdown",
   "metadata": {},
   "source": [
    "### Nested try"
   ]
  },
  {
   "cell_type": "code",
   "execution_count": 20,
   "metadata": {},
   "outputs": [
    {
     "name": "stdout",
     "output_type": "stream",
     "text": [
      "Outer except\n",
      "Outer finally\n"
     ]
    }
   ],
   "source": [
    "#Herw are some scenarios while using nested try in python\n",
    "#scenario 1: what if exception ouccours in outer try and outer except handle that excception\n",
    "try:\n",
    "    a=1/0\n",
    "    print(\"outer try\")\n",
    "    try:\n",
    "        b=10/0\n",
    "        print(\"Inner try\")\n",
    "    except Exception:\n",
    "        print(\"Inner Catch\")\n",
    "    finally:\n",
    "        print(\"inner finally\")\n",
    "except Exception:\n",
    "    print(\"Outer except\")\n",
    "finally:\n",
    "    print(\"Outer finally\")\n"
   ]
  },
  {
   "cell_type": "code",
   "execution_count": 21,
   "metadata": {},
   "outputs": [
    {
     "name": "stdout",
     "output_type": "stream",
     "text": [
      "outer try\n",
      "Inner Catch\n",
      "inner finally\n",
      "Outer finally\n"
     ]
    }
   ],
   "source": [
    "#scenario 2: what if exception ouccours in inner try and inner except has handled that excception\n",
    "try:\n",
    "    print(\"outer try\")\n",
    "    try:\n",
    "        b=10/0\n",
    "        print(\"Inner try\")\n",
    "    except Exception:\n",
    "        print(\"Inner Catch\")\n",
    "    finally:\n",
    "        print(\"inner finally\")\n",
    "except Exception:\n",
    "    print(\"Outer except\")\n",
    "finally:\n",
    "    print(\"Outer finally\")\n"
   ]
  },
  {
   "cell_type": "code",
   "execution_count": 23,
   "metadata": {},
   "outputs": [
    {
     "name": "stdout",
     "output_type": "stream",
     "text": [
      "outer try\n",
      "inner finally\n",
      "Outer except\n",
      "Outer finally\n"
     ]
    }
   ],
   "source": [
    "#scenario 3: what if exception ouccours in inner try and outer except handle that excception\n",
    "try:\n",
    "    print(\"outer try\")\n",
    "    try:\n",
    "        b=10/0\n",
    "        print(\"Inner try\")\n",
    "    except IOError:\n",
    "        print(\"Inner Except\")\n",
    "    finally:\n",
    "        print(\"inner finally\")\n",
    "except Exception:\n",
    "    print(\"Outer except\")\n",
    "finally:\n",
    "    print(\"Outer finally\")"
   ]
  }
 ],
 "metadata": {
  "kernelspec": {
   "display_name": "Python 3",
   "language": "python",
   "name": "python3"
  },
  "language_info": {
   "codemirror_mode": {
    "name": "ipython",
    "version": 3
   },
   "file_extension": ".py",
   "mimetype": "text/x-python",
   "name": "python",
   "nbconvert_exporter": "python",
   "pygments_lexer": "ipython3",
   "version": "3.7.3"
  }
 },
 "nbformat": 4,
 "nbformat_minor": 2
}
