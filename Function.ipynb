{
 "cells": [
  {
   "cell_type": "markdown",
   "metadata": {},
   "source": [
    "## INTRODUCTION TO FUNCTIONS"
   ]
  },
  {
   "cell_type": "code",
   "execution_count": 1,
   "metadata": {},
   "outputs": [
    {
     "name": "stdout",
     "output_type": "stream",
     "text": [
      "My First Function\n"
     ]
    }
   ],
   "source": [
    "#Define a simple function test()\n",
    "def test():\n",
    "    print('My First Function')\n",
    "test() #Calling function"
   ]
  },
  {
   "cell_type": "code",
   "execution_count": 2,
   "metadata": {},
   "outputs": [
    {
     "name": "stdout",
     "output_type": "stream",
     "text": [
      "Hello\n",
      "None\n",
      "<class 'NoneType'>\n"
     ]
    }
   ],
   "source": [
    "#Return type of print statement is always be NonType\n",
    "def test():\n",
    "    print(\"Hello\")\n",
    "a=test()\n",
    "print(a)\n",
    "print(type(a))"
   ]
  },
  {
   "cell_type": "code",
   "execution_count": 3,
   "metadata": {},
   "outputs": [
    {
     "name": "stdout",
     "output_type": "stream",
     "text": [
      "15\n",
      "<class 'int'>\n"
     ]
    }
   ],
   "source": [
    "#Now what if we use return statement\n",
    "def test(x):\n",
    "    return x*3\n",
    "a=test(5)\n",
    "print(a)\n",
    "print(type(a)) #Now the return type is integer"
   ]
  },
  {
   "cell_type": "code",
   "execution_count": 4,
   "metadata": {},
   "outputs": [
    {
     "name": "stdout",
     "output_type": "stream",
     "text": [
      "DineshDinesh\n",
      "<class 'str'>\n"
     ]
    }
   ],
   "source": [
    "#Passing string as an arguement\n",
    "def test(x):\n",
    "    return x*2\n",
    "a=test('Dinesh')\n",
    "print(a)\n",
    "print(type(a))"
   ]
  },
  {
   "cell_type": "code",
   "execution_count": 44,
   "metadata": {},
   "outputs": [
    {
     "name": "stdout",
     "output_type": "stream",
     "text": [
      "('DineshDinesh', 'DineshDinesh')\n",
      "<class 'tuple'>\n"
     ]
    }
   ],
   "source": [
    "#If we return more than one value, then it returns it in tuple form\n",
    "def test(y):\n",
    "    return y*2,y+y\n",
    "print(test(\"Dinesh\"))\n",
    "print(type(test('Dinesh')))"
   ]
  },
  {
   "cell_type": "code",
   "execution_count": 17,
   "metadata": {},
   "outputs": [
    {
     "name": "stdout",
     "output_type": "stream",
     "text": [
      "dineshdineshdinesh\n",
      "dineshdinesh\n"
     ]
    }
   ],
   "source": [
    "#let we want to access these values in seperate variables\n",
    "def test(y):\n",
    "    return y*3,y+y\n",
    "a,b=test('dinesh')\n",
    "print(a)\n",
    "print(b)"
   ]
  },
  {
   "cell_type": "code",
   "execution_count": 19,
   "metadata": {},
   "outputs": [
    {
     "name": "stdout",
     "output_type": "stream",
     "text": [
      "dineshdinesh\n"
     ]
    }
   ],
   "source": [
    "#What if both the variable are same\n",
    "def test(x):\n",
    "    return x*3,x+x\n",
    "a,a=test('dinesh')\n",
    "print(a) #It will give us latest value"
   ]
  },
  {
   "cell_type": "code",
   "execution_count": 20,
   "metadata": {},
   "outputs": [
    {
     "name": "stdout",
     "output_type": "stream",
     "text": [
      "[1, 2, 3, 4, 5]\n",
      "{'Name': 'Dinesh', 'ID': '54101'}\n"
     ]
    }
   ],
   "source": [
    "#Return dictionary and list\n",
    "def test(x):\n",
    "    return [1,2,3,4,5],{'Name':'Dinesh','ID':'54101'}\n",
    "a,b=test('dinesh')\n",
    "print(a)\n",
    "print(b)"
   ]
  },
  {
   "cell_type": "code",
   "execution_count": 21,
   "metadata": {},
   "outputs": [
    {
     "name": "stdout",
     "output_type": "stream",
     "text": [
      "d\n",
      "i\n",
      "n\n",
      "e\n",
      "s\n",
      "h\n"
     ]
    }
   ],
   "source": [
    "#Programa to iterate through a string using function\n",
    "def test(x):\n",
    "    for i in x:\n",
    "        print(i)\n",
    "test('dinesh')"
   ]
  },
  {
   "cell_type": "code",
   "execution_count": 22,
   "metadata": {},
   "outputs": [
    {
     "name": "stdout",
     "output_type": "stream",
     "text": [
      "1\n",
      "2\n",
      "3\n",
      "4\n",
      "5\n"
     ]
    }
   ],
   "source": [
    "#passing a list \n",
    "def test(x):\n",
    "    for i in x:\n",
    "        print(i)\n",
    "test([1,2,3,4,5])"
   ]
  },
  {
   "cell_type": "code",
   "execution_count": 35,
   "metadata": {},
   "outputs": [
    {
     "name": "stdout",
     "output_type": "stream",
     "text": [
      "define the length of the list4\n",
      "1\n",
      "2\n",
      "3\n",
      "4\n",
      "[1, 2, 3, 4]\n"
     ]
    }
   ],
   "source": [
    "#creating a list\n",
    "def test():\n",
    "    l=[]\n",
    "    n=int(input(\"define the length of the list\"))\n",
    "    for i in range(n):\n",
    "        l.append(int(input()))\n",
    "    print(l)\n",
    "test()"
   ]
  },
  {
   "cell_type": "code",
   "execution_count": 37,
   "metadata": {},
   "outputs": [
    {
     "name": "stdout",
     "output_type": "stream",
     "text": [
      "9\n"
     ]
    }
   ],
   "source": [
    "# Arguement Function\n",
    "def addition(a,b):\n",
    "    return a+b\n",
    "print(addition(4,5))"
   ]
  },
  {
   "cell_type": "code",
   "execution_count": 41,
   "metadata": {},
   "outputs": [
    {
     "name": "stdout",
     "output_type": "stream",
     "text": [
      "25\n"
     ]
    }
   ],
   "source": [
    "#we can pass arguement like this\n",
    "def addition(a,b):\n",
    "    return a**b\n",
    "print(addition(b=2,a=5))"
   ]
  },
  {
   "cell_type": "code",
   "execution_count": 42,
   "metadata": {},
   "outputs": [
    {
     "name": "stdout",
     "output_type": "stream",
     "text": [
      "15\n"
     ]
    }
   ],
   "source": [
    "#Default arguement\n",
    "def addition(a,b=10):\n",
    "    return a+b\n",
    "print(addition(5))"
   ]
  },
  {
   "cell_type": "code",
   "execution_count": 54,
   "metadata": {},
   "outputs": [
    {
     "name": "stdout",
     "output_type": "stream",
     "text": [
      "[32.0, 72.5, 104.0, 212.0]\n",
      "[32.0, 72.5, 104.0, 212.0]\n"
     ]
    },
    {
     "data": {
      "text/plain": [
       "[0.0, 22.5, 40.0, 100.0]"
      ]
     },
     "execution_count": 54,
     "metadata": {},
     "output_type": "execute_result"
    }
   ],
   "source": [
    "#map() function\n",
    "def fahrenheit(T):\n",
    "    return ((float(9)/5)*T+32)\n",
    "def celsius(T):\n",
    "    return (float(5)/9)*(T-32)\n",
    "temp=[0,22.5,40,100]\n",
    "a=[]\n",
    "for i in temp:\n",
    "    a.append(fahrenheit(i))\n",
    "print(a)\n",
    "#This program can be done using map() function\n",
    "def fahrenheit(T):\n",
    "    return ((float(9)/5)*T+32)\n",
    "def celsius(T):\n",
    "    return (float(5)/9)*(T-32)\n",
    "temp1=[0,22.5,40,100]\n",
    "a=list(map(fahrenheit,temp1))\n",
    "print(a)\n",
    "list(map(celsius,a))"
   ]
  },
  {
   "cell_type": "code",
   "execution_count": 66,
   "metadata": {},
   "outputs": [
    {
     "name": "stdout",
     "output_type": "stream",
     "text": [
      "['DINESH', 'BAFILA']\n",
      "['DINESH', 'BAFILA']\n",
      "['DINESH', 'BAFILA']\n",
      "[6, 8, 10, 12]\n"
     ]
    }
   ],
   "source": [
    "k=['Dinesh','Bafila']\n",
    "k1=[]\n",
    "for i in k:\n",
    "    k1.append(i.upper())\n",
    "print(k1)\n",
    "#same program using map function\n",
    "def Upper(k):\n",
    "    return k.upper()\n",
    "k1=['Dinesh','Bafila']\n",
    "print(list(map(Upper,k1)))\n",
    "#using lambda function\n",
    "print(list(map(lambda a:a.upper(),k1)))\n",
    "#addig two list element using map() and lambda function\n",
    "a1=[1,2,3,4]\n",
    "a2=[5,6,7,8]\n",
    "print(list(map(lambda a,b:a+b,a1,a2)))"
   ]
  },
  {
   "cell_type": "code",
   "execution_count": 72,
   "metadata": {},
   "outputs": [
    {
     "name": "stdout",
     "output_type": "stream",
     "text": [
      "113\n"
     ]
    },
    {
     "data": {
      "text/plain": [
       "113"
      ]
     },
     "execution_count": 72,
     "metadata": {},
     "output_type": "execute_result"
    }
   ],
   "source": [
    "#reduce(fuction,sequence)\n",
    "#program to add elements of list\n",
    "l1=[47,11,42,13]\n",
    "sum=0\n",
    "for i in l1:\n",
    "    sum=sum+i\n",
    "print(sum)\n",
    "from functools import reduce\n",
    "#same program using reduce()\n",
    "reduce(lambda a,b:a+b,l1)"
   ]
  },
  {
   "cell_type": "code",
   "execution_count": 75,
   "metadata": {},
   "outputs": [
    {
     "name": "stdout",
     "output_type": "stream",
     "text": [
      "range(0, 20)\n"
     ]
    },
    {
     "data": {
      "text/plain": [
       "[0, 2, 4, 6, 8, 10, 12, 14, 16, 18]"
      ]
     },
     "execution_count": 75,
     "metadata": {},
     "output_type": "execute_result"
    }
   ],
   "source": [
    "#filter(function,list), gives all the values who returns true\n",
    "l1=range(20)\n",
    "list(filter(lambda x:x%2==0,l1))"
   ]
  },
  {
   "cell_type": "code",
   "execution_count": null,
   "metadata": {},
   "outputs": [],
   "source": []
  }
 ],
 "metadata": {
  "kernelspec": {
   "display_name": "Python 3",
   "language": "python",
   "name": "python3"
  },
  "language_info": {
   "codemirror_mode": {
    "name": "ipython",
    "version": 3
   },
   "file_extension": ".py",
   "mimetype": "text/x-python",
   "name": "python",
   "nbconvert_exporter": "python",
   "pygments_lexer": "ipython3",
   "version": "3.7.3"
  }
 },
 "nbformat": 4,
 "nbformat_minor": 2
}
